{
 "cells": [
  {
   "cell_type": "code",
   "execution_count": 1,
   "metadata": {},
   "outputs": [],
   "source": [
    "import matplotlib.pyplot as plt\n",
    "import pandas as pd\n",
    "import numpy as np\n",
    "from sklearn.cluster import DBSCAN\n",
    "from sklearn.neighbors import NearestNeighbors\n",
    "from sklearn.metrics import silhouette_samples, silhouette_score"
   ]
  },
  {
   "cell_type": "code",
   "execution_count": 2,
   "metadata": {},
   "outputs": [],
   "source": [
    "csvPath = \"./chicago-west-nile-virus-mosquito-test-results/west-nile-virus-wnv-mosquito-test-results.csv\""
   ]
  },
  {
   "cell_type": "code",
   "execution_count": 3,
   "metadata": {
    "scrolled": false
   },
   "outputs": [
    {
     "data": {
      "text/html": [
       "<div>\n",
       "<style scoped>\n",
       "    .dataframe tbody tr th:only-of-type {\n",
       "        vertical-align: middle;\n",
       "    }\n",
       "\n",
       "    .dataframe tbody tr th {\n",
       "        vertical-align: top;\n",
       "    }\n",
       "\n",
       "    .dataframe thead th {\n",
       "        text-align: right;\n",
       "    }\n",
       "</style>\n",
       "<table border=\"1\" class=\"dataframe\">\n",
       "  <thead>\n",
       "    <tr style=\"text-align: right;\">\n",
       "      <th></th>\n",
       "      <th>SEASON YEAR</th>\n",
       "      <th>WEEK</th>\n",
       "      <th>TEST ID</th>\n",
       "      <th>BLOCK</th>\n",
       "      <th>TRAP</th>\n",
       "      <th>TRAP_TYPE</th>\n",
       "      <th>TEST DATE</th>\n",
       "      <th>NUMBER OF MOSQUITOES</th>\n",
       "      <th>RESULT</th>\n",
       "      <th>SPECIES</th>\n",
       "      <th>LATITUDE</th>\n",
       "      <th>LONGITUDE</th>\n",
       "      <th>LOCATION</th>\n",
       "      <th>Wards</th>\n",
       "      <th>Census Tracts</th>\n",
       "      <th>Zip Codes</th>\n",
       "      <th>Community Areas</th>\n",
       "      <th>Historical Wards 2003-2015</th>\n",
       "    </tr>\n",
       "  </thead>\n",
       "  <tbody>\n",
       "    <tr>\n",
       "      <th>93</th>\n",
       "      <td>2018</td>\n",
       "      <td>38</td>\n",
       "      <td>47646</td>\n",
       "      <td>25XX W GRAND AVE</td>\n",
       "      <td>T046B</td>\n",
       "      <td>SENTINEL</td>\n",
       "      <td>2018-09-20T00:09:00.000</td>\n",
       "      <td>50</td>\n",
       "      <td>positive</td>\n",
       "      <td>CULEX PIPIENS/RESTUANS</td>\n",
       "      <td>41.891455</td>\n",
       "      <td>-87.689763</td>\n",
       "      <td>{'longitude': '-87.68976265642561', 'latitude'...</td>\n",
       "      <td>46.0</td>\n",
       "      <td>545.0</td>\n",
       "      <td>21184.0</td>\n",
       "      <td>25.0</td>\n",
       "      <td>41.0</td>\n",
       "    </tr>\n",
       "    <tr>\n",
       "      <th>103</th>\n",
       "      <td>2018</td>\n",
       "      <td>38</td>\n",
       "      <td>47649</td>\n",
       "      <td>25XX W GRAND AVE</td>\n",
       "      <td>T046B</td>\n",
       "      <td>SENTINEL</td>\n",
       "      <td>2018-09-20T00:09:00.000</td>\n",
       "      <td>19</td>\n",
       "      <td>positive</td>\n",
       "      <td>CULEX RESTUANS</td>\n",
       "      <td>41.891455</td>\n",
       "      <td>-87.689763</td>\n",
       "      <td>{'longitude': '-87.68976265642561', 'latitude'...</td>\n",
       "      <td>46.0</td>\n",
       "      <td>545.0</td>\n",
       "      <td>21184.0</td>\n",
       "      <td>25.0</td>\n",
       "      <td>41.0</td>\n",
       "    </tr>\n",
       "    <tr>\n",
       "      <th>128</th>\n",
       "      <td>2018</td>\n",
       "      <td>38</td>\n",
       "      <td>47648</td>\n",
       "      <td>25XX W GRAND AVE</td>\n",
       "      <td>T046B</td>\n",
       "      <td>SENTINEL</td>\n",
       "      <td>2018-09-20T00:09:00.000</td>\n",
       "      <td>50</td>\n",
       "      <td>positive</td>\n",
       "      <td>CULEX PIPIENS/RESTUANS</td>\n",
       "      <td>41.891455</td>\n",
       "      <td>-87.689763</td>\n",
       "      <td>{'longitude': '-87.68976265642561', 'latitude'...</td>\n",
       "      <td>46.0</td>\n",
       "      <td>545.0</td>\n",
       "      <td>21184.0</td>\n",
       "      <td>25.0</td>\n",
       "      <td>41.0</td>\n",
       "    </tr>\n",
       "    <tr>\n",
       "      <th>134</th>\n",
       "      <td>2018</td>\n",
       "      <td>38</td>\n",
       "      <td>47637</td>\n",
       "      <td>25XX W GRAND AVE</td>\n",
       "      <td>T046</td>\n",
       "      <td>GRAVID</td>\n",
       "      <td>2018-09-20T00:09:00.000</td>\n",
       "      <td>5</td>\n",
       "      <td>positive</td>\n",
       "      <td>CULEX PIPIENS/RESTUANS</td>\n",
       "      <td>41.892220</td>\n",
       "      <td>-87.691698</td>\n",
       "      <td>{'longitude': '-87.69169772868295', 'latitude'...</td>\n",
       "      <td>46.0</td>\n",
       "      <td>177.0</td>\n",
       "      <td>21184.0</td>\n",
       "      <td>24.0</td>\n",
       "      <td>41.0</td>\n",
       "    </tr>\n",
       "    <tr>\n",
       "      <th>176</th>\n",
       "      <td>2018</td>\n",
       "      <td>37</td>\n",
       "      <td>47562</td>\n",
       "      <td>25XX W GRAND AVE</td>\n",
       "      <td>T046B</td>\n",
       "      <td>SENTINEL</td>\n",
       "      <td>2018-09-13T00:09:00.000</td>\n",
       "      <td>42</td>\n",
       "      <td>positive</td>\n",
       "      <td>CULEX PIPIENS/RESTUANS</td>\n",
       "      <td>41.891455</td>\n",
       "      <td>-87.689763</td>\n",
       "      <td>{'longitude': '-87.68976265642561', 'latitude'...</td>\n",
       "      <td>46.0</td>\n",
       "      <td>545.0</td>\n",
       "      <td>21184.0</td>\n",
       "      <td>25.0</td>\n",
       "      <td>41.0</td>\n",
       "    </tr>\n",
       "  </tbody>\n",
       "</table>\n",
       "</div>"
      ],
      "text/plain": [
       "     SEASON YEAR  WEEK  TEST ID             BLOCK   TRAP TRAP_TYPE  \\\n",
       "93          2018    38    47646  25XX W GRAND AVE  T046B  SENTINEL   \n",
       "103         2018    38    47649  25XX W GRAND AVE  T046B  SENTINEL   \n",
       "128         2018    38    47648  25XX W GRAND AVE  T046B  SENTINEL   \n",
       "134         2018    38    47637  25XX W GRAND AVE   T046    GRAVID   \n",
       "176         2018    37    47562  25XX W GRAND AVE  T046B  SENTINEL   \n",
       "\n",
       "                   TEST DATE  NUMBER OF MOSQUITOES    RESULT  \\\n",
       "93   2018-09-20T00:09:00.000                    50  positive   \n",
       "103  2018-09-20T00:09:00.000                    19  positive   \n",
       "128  2018-09-20T00:09:00.000                    50  positive   \n",
       "134  2018-09-20T00:09:00.000                     5  positive   \n",
       "176  2018-09-13T00:09:00.000                    42  positive   \n",
       "\n",
       "                    SPECIES   LATITUDE  LONGITUDE  \\\n",
       "93   CULEX PIPIENS/RESTUANS  41.891455 -87.689763   \n",
       "103          CULEX RESTUANS  41.891455 -87.689763   \n",
       "128  CULEX PIPIENS/RESTUANS  41.891455 -87.689763   \n",
       "134  CULEX PIPIENS/RESTUANS  41.892220 -87.691698   \n",
       "176  CULEX PIPIENS/RESTUANS  41.891455 -87.689763   \n",
       "\n",
       "                                              LOCATION  Wards  Census Tracts  \\\n",
       "93   {'longitude': '-87.68976265642561', 'latitude'...   46.0          545.0   \n",
       "103  {'longitude': '-87.68976265642561', 'latitude'...   46.0          545.0   \n",
       "128  {'longitude': '-87.68976265642561', 'latitude'...   46.0          545.0   \n",
       "134  {'longitude': '-87.69169772868295', 'latitude'...   46.0          177.0   \n",
       "176  {'longitude': '-87.68976265642561', 'latitude'...   46.0          545.0   \n",
       "\n",
       "     Zip Codes  Community Areas  Historical Wards 2003-2015  \n",
       "93     21184.0             25.0                        41.0  \n",
       "103    21184.0             25.0                        41.0  \n",
       "128    21184.0             25.0                        41.0  \n",
       "134    21184.0             24.0                        41.0  \n",
       "176    21184.0             25.0                        41.0  "
      ]
     },
     "execution_count": 3,
     "metadata": {},
     "output_type": "execute_result"
    }
   ],
   "source": [
    "## Read Data\n",
    "\n",
    "df = pd.read_csv(csvPath, encoding=\"utf-8\")\n",
    "df = df.loc[df['RESULT'] == 'positive']\n",
    "df.head()"
   ]
  },
  {
   "cell_type": "code",
   "execution_count": 4,
   "metadata": {
    "scrolled": true
   },
   "outputs": [
    {
     "data": {
      "text/html": [
       "<div>\n",
       "<style scoped>\n",
       "    .dataframe tbody tr th:only-of-type {\n",
       "        vertical-align: middle;\n",
       "    }\n",
       "\n",
       "    .dataframe tbody tr th {\n",
       "        vertical-align: top;\n",
       "    }\n",
       "\n",
       "    .dataframe thead th {\n",
       "        text-align: right;\n",
       "    }\n",
       "</style>\n",
       "<table border=\"1\" class=\"dataframe\">\n",
       "  <thead>\n",
       "    <tr style=\"text-align: right;\">\n",
       "      <th></th>\n",
       "      <th>SEASON YEAR</th>\n",
       "      <th>WEEK</th>\n",
       "      <th>TEST ID</th>\n",
       "      <th>NUMBER OF MOSQUITOES</th>\n",
       "      <th>LATITUDE</th>\n",
       "      <th>LONGITUDE</th>\n",
       "      <th>Wards</th>\n",
       "      <th>Census Tracts</th>\n",
       "      <th>Zip Codes</th>\n",
       "      <th>Community Areas</th>\n",
       "      <th>Historical Wards 2003-2015</th>\n",
       "    </tr>\n",
       "  </thead>\n",
       "  <tbody>\n",
       "    <tr>\n",
       "      <th>count</th>\n",
       "      <td>2338.000000</td>\n",
       "      <td>2338.000000</td>\n",
       "      <td>2338.000000</td>\n",
       "      <td>2338.000000</td>\n",
       "      <td>1748.000000</td>\n",
       "      <td>1748.000000</td>\n",
       "      <td>1748.000000</td>\n",
       "      <td>1748.000000</td>\n",
       "      <td>1748.000000</td>\n",
       "      <td>1748.000000</td>\n",
       "      <td>1748.000000</td>\n",
       "    </tr>\n",
       "    <tr>\n",
       "      <th>mean</th>\n",
       "      <td>2013.359281</td>\n",
       "      <td>32.351155</td>\n",
       "      <td>37374.218135</td>\n",
       "      <td>27.734388</td>\n",
       "      <td>41.858417</td>\n",
       "      <td>-87.710915</td>\n",
       "      <td>28.093822</td>\n",
       "      <td>422.210526</td>\n",
       "      <td>19650.413043</td>\n",
       "      <td>40.215103</td>\n",
       "      <td>31.282037</td>\n",
       "    </tr>\n",
       "    <tr>\n",
       "      <th>std</th>\n",
       "      <td>3.284551</td>\n",
       "      <td>2.634057</td>\n",
       "      <td>7456.867265</td>\n",
       "      <td>17.377089</td>\n",
       "      <td>0.115472</td>\n",
       "      <td>0.077597</td>\n",
       "      <td>13.820515</td>\n",
       "      <td>249.050932</td>\n",
       "      <td>5667.591178</td>\n",
       "      <td>22.574549</td>\n",
       "      <td>12.667966</td>\n",
       "    </tr>\n",
       "    <tr>\n",
       "      <th>min</th>\n",
       "      <td>2007.000000</td>\n",
       "      <td>23.000000</td>\n",
       "      <td>20467.000000</td>\n",
       "      <td>1.000000</td>\n",
       "      <td>41.644720</td>\n",
       "      <td>-87.854473</td>\n",
       "      <td>1.000000</td>\n",
       "      <td>6.000000</td>\n",
       "      <td>4299.000000</td>\n",
       "      <td>4.000000</td>\n",
       "      <td>3.000000</td>\n",
       "    </tr>\n",
       "    <tr>\n",
       "      <th>25%</th>\n",
       "      <td>2012.000000</td>\n",
       "      <td>30.000000</td>\n",
       "      <td>33842.750000</td>\n",
       "      <td>12.000000</td>\n",
       "      <td>41.754148</td>\n",
       "      <td>-87.778235</td>\n",
       "      <td>19.000000</td>\n",
       "      <td>177.000000</td>\n",
       "      <td>21202.000000</td>\n",
       "      <td>17.000000</td>\n",
       "      <td>23.000000</td>\n",
       "    </tr>\n",
       "    <tr>\n",
       "      <th>50%</th>\n",
       "      <td>2014.000000</td>\n",
       "      <td>32.000000</td>\n",
       "      <td>38825.500000</td>\n",
       "      <td>27.000000</td>\n",
       "      <td>41.891455</td>\n",
       "      <td>-87.723962</td>\n",
       "      <td>29.000000</td>\n",
       "      <td>442.000000</td>\n",
       "      <td>21867.000000</td>\n",
       "      <td>40.000000</td>\n",
       "      <td>34.000000</td>\n",
       "    </tr>\n",
       "    <tr>\n",
       "      <th>75%</th>\n",
       "      <td>2016.000000</td>\n",
       "      <td>34.000000</td>\n",
       "      <td>43446.000000</td>\n",
       "      <td>48.000000</td>\n",
       "      <td>41.964405</td>\n",
       "      <td>-87.656762</td>\n",
       "      <td>38.000000</td>\n",
       "      <td>654.000000</td>\n",
       "      <td>22254.000000</td>\n",
       "      <td>62.000000</td>\n",
       "      <td>40.000000</td>\n",
       "    </tr>\n",
       "    <tr>\n",
       "      <th>max</th>\n",
       "      <td>2018.000000</td>\n",
       "      <td>39.000000</td>\n",
       "      <td>47649.000000</td>\n",
       "      <td>50.000000</td>\n",
       "      <td>42.013029</td>\n",
       "      <td>-87.531060</td>\n",
       "      <td>50.000000</td>\n",
       "      <td>787.000000</td>\n",
       "      <td>22620.000000</td>\n",
       "      <td>77.000000</td>\n",
       "      <td>53.000000</td>\n",
       "    </tr>\n",
       "  </tbody>\n",
       "</table>\n",
       "</div>"
      ],
      "text/plain": [
       "       SEASON YEAR         WEEK       TEST ID  NUMBER OF MOSQUITOES  \\\n",
       "count  2338.000000  2338.000000   2338.000000           2338.000000   \n",
       "mean   2013.359281    32.351155  37374.218135             27.734388   \n",
       "std       3.284551     2.634057   7456.867265             17.377089   \n",
       "min    2007.000000    23.000000  20467.000000              1.000000   \n",
       "25%    2012.000000    30.000000  33842.750000             12.000000   \n",
       "50%    2014.000000    32.000000  38825.500000             27.000000   \n",
       "75%    2016.000000    34.000000  43446.000000             48.000000   \n",
       "max    2018.000000    39.000000  47649.000000             50.000000   \n",
       "\n",
       "          LATITUDE    LONGITUDE        Wards  Census Tracts     Zip Codes  \\\n",
       "count  1748.000000  1748.000000  1748.000000    1748.000000   1748.000000   \n",
       "mean     41.858417   -87.710915    28.093822     422.210526  19650.413043   \n",
       "std       0.115472     0.077597    13.820515     249.050932   5667.591178   \n",
       "min      41.644720   -87.854473     1.000000       6.000000   4299.000000   \n",
       "25%      41.754148   -87.778235    19.000000     177.000000  21202.000000   \n",
       "50%      41.891455   -87.723962    29.000000     442.000000  21867.000000   \n",
       "75%      41.964405   -87.656762    38.000000     654.000000  22254.000000   \n",
       "max      42.013029   -87.531060    50.000000     787.000000  22620.000000   \n",
       "\n",
       "       Community Areas  Historical Wards 2003-2015  \n",
       "count      1748.000000                 1748.000000  \n",
       "mean         40.215103                   31.282037  \n",
       "std          22.574549                   12.667966  \n",
       "min           4.000000                    3.000000  \n",
       "25%          17.000000                   23.000000  \n",
       "50%          40.000000                   34.000000  \n",
       "75%          62.000000                   40.000000  \n",
       "max          77.000000                   53.000000  "
      ]
     },
     "execution_count": 4,
     "metadata": {},
     "output_type": "execute_result"
    }
   ],
   "source": [
    "df.describe()"
   ]
  },
  {
   "cell_type": "code",
   "execution_count": 5,
   "metadata": {
    "scrolled": true
   },
   "outputs": [
    {
     "name": "stdout",
     "output_type": "stream",
     "text": [
      "<class 'pandas.core.frame.DataFrame'>\n",
      "Int64Index: 2338 entries, 93 to 26715\n",
      "Data columns (total 18 columns):\n",
      "SEASON YEAR                   2338 non-null int64\n",
      "WEEK                          2338 non-null int64\n",
      "TEST ID                       2338 non-null int64\n",
      "BLOCK                         2338 non-null object\n",
      "TRAP                          2338 non-null object\n",
      "TRAP_TYPE                     2338 non-null object\n",
      "TEST DATE                     2338 non-null object\n",
      "NUMBER OF MOSQUITOES          2338 non-null int64\n",
      "RESULT                        2338 non-null object\n",
      "SPECIES                       2338 non-null object\n",
      "LATITUDE                      1748 non-null float64\n",
      "LONGITUDE                     1748 non-null float64\n",
      "LOCATION                      1748 non-null object\n",
      "Wards                         1748 non-null float64\n",
      "Census Tracts                 1748 non-null float64\n",
      "Zip Codes                     1748 non-null float64\n",
      "Community Areas               1748 non-null float64\n",
      "Historical Wards 2003-2015    1748 non-null float64\n",
      "dtypes: float64(7), int64(4), object(7)\n",
      "memory usage: 347.0+ KB\n"
     ]
    }
   ],
   "source": [
    "df.info()"
   ]
  },
  {
   "cell_type": "code",
   "execution_count": 6,
   "metadata": {},
   "outputs": [
    {
     "data": {
      "text/html": [
       "<div>\n",
       "<style scoped>\n",
       "    .dataframe tbody tr th:only-of-type {\n",
       "        vertical-align: middle;\n",
       "    }\n",
       "\n",
       "    .dataframe tbody tr th {\n",
       "        vertical-align: top;\n",
       "    }\n",
       "\n",
       "    .dataframe thead th {\n",
       "        text-align: right;\n",
       "    }\n",
       "</style>\n",
       "<table border=\"1\" class=\"dataframe\">\n",
       "  <thead>\n",
       "    <tr style=\"text-align: right;\">\n",
       "      <th></th>\n",
       "      <th>BLOCK</th>\n",
       "      <th>TRAP_TYPE</th>\n",
       "      <th>NUMBER OF MOSQUITOES</th>\n",
       "      <th>SPECIES</th>\n",
       "      <th>LATITUDE</th>\n",
       "      <th>LONGITUDE</th>\n",
       "      <th>Wards</th>\n",
       "      <th>Census Tracts</th>\n",
       "      <th>Zip Codes</th>\n",
       "      <th>Community Areas</th>\n",
       "      <th>Historical Wards 2003-2015</th>\n",
       "      <th>TEST DATE INT</th>\n",
       "    </tr>\n",
       "  </thead>\n",
       "  <tbody>\n",
       "    <tr>\n",
       "      <th>93</th>\n",
       "      <td>42</td>\n",
       "      <td>2</td>\n",
       "      <td>50</td>\n",
       "      <td>1</td>\n",
       "      <td>41.891455</td>\n",
       "      <td>-87.689763</td>\n",
       "      <td>46.0</td>\n",
       "      <td>545.0</td>\n",
       "      <td>9</td>\n",
       "      <td>25.0</td>\n",
       "      <td>41.0</td>\n",
       "      <td>20180920</td>\n",
       "    </tr>\n",
       "    <tr>\n",
       "      <th>103</th>\n",
       "      <td>42</td>\n",
       "      <td>2</td>\n",
       "      <td>19</td>\n",
       "      <td>2</td>\n",
       "      <td>41.891455</td>\n",
       "      <td>-87.689763</td>\n",
       "      <td>46.0</td>\n",
       "      <td>545.0</td>\n",
       "      <td>9</td>\n",
       "      <td>25.0</td>\n",
       "      <td>41.0</td>\n",
       "      <td>20180920</td>\n",
       "    </tr>\n",
       "    <tr>\n",
       "      <th>128</th>\n",
       "      <td>42</td>\n",
       "      <td>2</td>\n",
       "      <td>50</td>\n",
       "      <td>1</td>\n",
       "      <td>41.891455</td>\n",
       "      <td>-87.689763</td>\n",
       "      <td>46.0</td>\n",
       "      <td>545.0</td>\n",
       "      <td>9</td>\n",
       "      <td>25.0</td>\n",
       "      <td>41.0</td>\n",
       "      <td>20180920</td>\n",
       "    </tr>\n",
       "    <tr>\n",
       "      <th>134</th>\n",
       "      <td>42</td>\n",
       "      <td>1</td>\n",
       "      <td>5</td>\n",
       "      <td>1</td>\n",
       "      <td>41.892220</td>\n",
       "      <td>-87.691698</td>\n",
       "      <td>46.0</td>\n",
       "      <td>177.0</td>\n",
       "      <td>9</td>\n",
       "      <td>24.0</td>\n",
       "      <td>41.0</td>\n",
       "      <td>20180920</td>\n",
       "    </tr>\n",
       "    <tr>\n",
       "      <th>176</th>\n",
       "      <td>42</td>\n",
       "      <td>2</td>\n",
       "      <td>42</td>\n",
       "      <td>1</td>\n",
       "      <td>41.891455</td>\n",
       "      <td>-87.689763</td>\n",
       "      <td>46.0</td>\n",
       "      <td>545.0</td>\n",
       "      <td>9</td>\n",
       "      <td>25.0</td>\n",
       "      <td>41.0</td>\n",
       "      <td>20180913</td>\n",
       "    </tr>\n",
       "  </tbody>\n",
       "</table>\n",
       "</div>"
      ],
      "text/plain": [
       "     BLOCK  TRAP_TYPE  NUMBER OF MOSQUITOES  SPECIES   LATITUDE  LONGITUDE  \\\n",
       "93      42          2                    50        1  41.891455 -87.689763   \n",
       "103     42          2                    19        2  41.891455 -87.689763   \n",
       "128     42          2                    50        1  41.891455 -87.689763   \n",
       "134     42          1                     5        1  41.892220 -87.691698   \n",
       "176     42          2                    42        1  41.891455 -87.689763   \n",
       "\n",
       "     Wards  Census Tracts  Zip Codes  Community Areas  \\\n",
       "93    46.0          545.0          9             25.0   \n",
       "103   46.0          545.0          9             25.0   \n",
       "128   46.0          545.0          9             25.0   \n",
       "134   46.0          177.0          9             24.0   \n",
       "176   46.0          545.0          9             25.0   \n",
       "\n",
       "     Historical Wards 2003-2015  TEST DATE INT  \n",
       "93                         41.0       20180920  \n",
       "103                        41.0       20180920  \n",
       "128                        41.0       20180920  \n",
       "134                        41.0       20180920  \n",
       "176                        41.0       20180913  "
      ]
     },
     "execution_count": 6,
     "metadata": {},
     "output_type": "execute_result"
    }
   ],
   "source": [
    "## Preprocess data\n",
    "\n",
    "# df['TEST DATE INT'] = pd.to_datetime(df['TEST DATE']).astype('int64')//1e9\n",
    "df['TEST DATE INT'] = df['TEST DATE'].str.split('T').str[0].str.replace('-', '').astype('int64')\n",
    "\n",
    "nonNumCol = ['TRAP', 'BLOCK', 'TRAP_TYPE', 'SPECIES', 'Zip Codes']\n",
    "for col in nonNumCol:\n",
    "    df[col] = df[col].astype('category')\n",
    "    df[col] = df[col].cat.codes\n",
    "\n",
    "df_dropped = df.drop(columns=['LOCATION', 'TEST DATE', 'TEST ID', 'TRAP', 'SEASON YEAR', 'WEEK', 'RESULT'])\n",
    "df_dropped = df_dropped.dropna()\n",
    "df_dropped.head()"
   ]
  },
  {
   "cell_type": "code",
   "execution_count": 7,
   "metadata": {},
   "outputs": [
    {
     "name": "stdout",
     "output_type": "stream",
     "text": [
      "<class 'pandas.core.frame.DataFrame'>\n",
      "Int64Index: 1748 entries, 93 to 26715\n",
      "Data columns (total 12 columns):\n",
      "BLOCK                         1748 non-null int8\n",
      "TRAP_TYPE                     1748 non-null int8\n",
      "NUMBER OF MOSQUITOES          1748 non-null int64\n",
      "SPECIES                       1748 non-null int8\n",
      "LATITUDE                      1748 non-null float64\n",
      "LONGITUDE                     1748 non-null float64\n",
      "Wards                         1748 non-null float64\n",
      "Census Tracts                 1748 non-null float64\n",
      "Zip Codes                     1748 non-null int8\n",
      "Community Areas               1748 non-null float64\n",
      "Historical Wards 2003-2015    1748 non-null float64\n",
      "TEST DATE INT                 1748 non-null int64\n",
      "dtypes: float64(6), int64(2), int8(4)\n",
      "memory usage: 129.7 KB\n"
     ]
    }
   ],
   "source": [
    "df_dropped.info()"
   ]
  },
  {
   "cell_type": "code",
   "execution_count": 8,
   "metadata": {},
   "outputs": [],
   "source": [
    "X = df_dropped.to_numpy()"
   ]
  },
  {
   "cell_type": "code",
   "execution_count": 9,
   "metadata": {},
   "outputs": [
    {
     "data": {
      "text/plain": [
       "NearestNeighbors(algorithm='auto', leaf_size=30, metric='minkowski',\n",
       "         metric_params=None, n_jobs=None, n_neighbors=2, p=2, radius=0.4)"
      ]
     },
     "execution_count": 9,
     "metadata": {},
     "output_type": "execute_result"
    }
   ],
   "source": [
    "neigh = NearestNeighbors(2, 0.4)\n",
    "neigh.fit(X)"
   ]
  },
  {
   "cell_type": "code",
   "execution_count": 10,
   "metadata": {},
   "outputs": [
    {
     "name": "stdout",
     "output_type": "stream",
     "text": [
      "Max distance:  152.27612164780223\n",
      "Min distance:  0.0\n",
      "Average distance:  22.268892584692043\n",
      "Median distance:  11.045361017187261\n"
     ]
    }
   ],
   "source": [
    "dist, _ = neigh.kneighbors(X)\n",
    "dist = dist[:,1]\n",
    "max_dist = max(dist)\n",
    "min_dist = min(dist)\n",
    "avg_dist = sum(dist) / len(dist)\n",
    "med_dist = np.median(dist)\n",
    "\n",
    "print('Max distance: ', max_dist)\n",
    "print('Min distance: ', min_dist)\n",
    "print('Average distance: ', avg_dist)\n",
    "print('Median distance: ', med_dist)"
   ]
  },
  {
   "cell_type": "code",
   "execution_count": 11,
   "metadata": {},
   "outputs": [
    {
     "data": {
      "image/png": "[encoded data removed]",
      "text/plain": [
       "<Figure size 432x288 with 1 Axes>"
      ]
     },
     "metadata": {
      "needs_background": "light"
     },
     "output_type": "display_data"
    }
   ],
   "source": [
    "plt.hist(dist)\n",
    "plt.ylabel('# of data')\n",
    "plt.xlabel('Distance of the nearest neighbor')\n",
    "plt.show()"
   ]
  },
  {
   "cell_type": "code",
   "execution_count": 12,
   "metadata": {
    "scrolled": true
   },
   "outputs": [
    {
     "name": "stdout",
     "output_type": "stream",
     "text": [
      "Max neighbors:  163\n",
      "Min neighbors:  2\n",
      "Average neighbors:  61.50114416475972\n",
      "Median neighbors:  54.0\n"
     ]
    }
   ],
   "source": [
    "neighbors = neigh.radius_neighbors(X, radius=max_dist, return_distance=False)\n",
    "neighbors = np.array([len(x) for x in neighbors])\n",
    "\n",
    "max_neighbors = max(neighbors)\n",
    "min_neighbors = min(neighbors)\n",
    "avg_neighbors = sum(neighbors) / len(neighbors)\n",
    "med_neighbors = np.median(neighbors)\n",
    "print('Max neighbors: ', max_neighbors)\n",
    "print('Min neighbors: ', min_neighbors)\n",
    "print('Average neighbors: ', avg_neighbors)\n",
    "print('Median neighbors: ', med_neighbors)"
   ]
  },
  {
   "cell_type": "code",
   "execution_count": 13,
   "metadata": {
    "scrolled": true
   },
   "outputs": [
    {
     "data": {
      "image/png": "[encoded data removed]",
      "text/plain": [
       "<Figure size 432x288 with 1 Axes>"
      ]
     },
     "metadata": {
      "needs_background": "light"
     },
     "output_type": "display_data"
    }
   ],
   "source": [
    "plt.hist(neighbors)\n",
    "plt.ylabel('# of data')\n",
    "plt.xlabel('# of nearest neighbors when dist=%d' % max_dist)\n",
    "plt.show()"
   ]
  },
  {
   "cell_type": "code",
   "execution_count": null,
   "metadata": {},
   "outputs": [],
   "source": [
    "## Draw Silhouette Score\n",
    "\n",
    "s_scores = []\n",
    "\n",
    "for i in range(min_neighbors, max_neighbors + 1):\n",
    "    eps=153\n",
    "    mins=i\n",
    "\n",
    "    dbscan = DBSCAN(eps=eps, min_samples=mins)\n",
    "    labels = dbscan.fit_predict(X)\n",
    "    silhouette_avg = silhouette_score(X, labels)\n",
    "    \n",
    "    s_scores.append(silhouette_avg)"
   ]
  },
  {
   "cell_type": "code",
   "execution_count": null,
   "metadata": {
    "scrolled": true
   },
   "outputs": [],
   "source": [
    "plt.plot(range(min_neighbors, max_neighbors + 1), s_scores)\n",
    "plt.ylabel('Silhouette score')\n",
    "plt.xlabel('# of min samples')\n",
    "plt.show()"
   ]
  },
  {
   "cell_type": "code",
   "execution_count": null,
   "metadata": {},
   "outputs": [],
   "source": [
    "eps=153\n",
    "mins=40"
   ]
  },
  {
   "cell_type": "code",
   "execution_count": null,
   "metadata": {},
   "outputs": [],
   "source": [
    "## Clustering\n",
    "\n",
    "dbscan = DBSCAN(eps=eps, min_samples=mins)\n",
    "labels = dbscan.fit_predict(X)\n",
    "\n",
    "label, count = np.unique(labels, return_counts=True)\n",
    "label_dict = dict(zip(label, count))\n",
    "print(label_dict)"
   ]
  },
  {
   "cell_type": "code",
   "execution_count": null,
   "metadata": {},
   "outputs": [],
   "source": [
    "## Evaluate\n",
    "\n",
    "silhouette_avg = silhouette_score(X, labels)\n",
    "print('The average silhouette_score is : ', silhouette_avg)"
   ]
  },
  {
   "cell_type": "code",
   "execution_count": null,
   "metadata": {},
   "outputs": [],
   "source": [
    "df_dropped['CLUSTERS'] = labels"
   ]
  },
  {
   "cell_type": "code",
   "execution_count": null,
   "metadata": {
    "scrolled": true
   },
   "outputs": [],
   "source": [
    "## Analysis\n",
    "\n",
    "for c in label_dict:\n",
    "    display(df_dropped.loc[df_dropped['CLUSTERS'] == c])"
   ]
  },
  {
   "cell_type": "code",
   "execution_count": null,
   "metadata": {},
   "outputs": [],
   "source": []
  }
 ],
 "metadata": {
  "kernelspec": {
   "display_name": "Python 3",
   "language": "python",
   "name": "python3"
  },
  "language_info": {
   "codemirror_mode": {
    "name": "ipython",
    "version": 3
   },
   "file_extension": ".py",
   "mimetype": "text/x-python",
   "name": "python",
   "nbconvert_exporter": "python",
   "pygments_lexer": "ipython3",
   "version": "3.6.7"
  }
 },
 "nbformat": 4,
 "nbformat_minor": 2
}
